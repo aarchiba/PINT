{
 "metadata": {
  "name": ""
 },
 "nbformat": 3,
 "nbformat_minor": 0,
 "worksheets": [
  {
   "cells": [
    {
     "cell_type": "code",
     "collapsed": false,
     "input": [
      "sys.path += [\"..\"]"
     ],
     "language": "python",
     "metadata": {},
     "outputs": [],
     "prompt_number": 1
    },
    {
     "cell_type": "code",
     "collapsed": false,
     "input": [
      "%load_ext autoreload\n",
      "%autoreload "
     ],
     "language": "python",
     "metadata": {},
     "outputs": [],
     "prompt_number": 2
    },
    {
     "cell_type": "code",
     "collapsed": false,
     "input": [
      "import pint.orbital.kepler as kepler\n",
      "from pint.toa import TOA\n",
      "import pint.toa"
     ],
     "language": "python",
     "metadata": {},
     "outputs": [],
     "prompt_number": 7
    },
    {
     "cell_type": "code",
     "collapsed": false,
     "input": [
      "pint.toa.observatories"
     ],
     "language": "python",
     "metadata": {},
     "outputs": [
      {
       "metadata": {},
       "output_type": "pyout",
       "prompt_number": 9,
       "text": [
        "{'Arecibo': <pint.observatories.observatory at 0x4b73290>,\n",
        " 'Effelsberg': <pint.observatories.observatory at 0x60d2450>,\n",
        " 'GBT': <pint.observatories.observatory at 0x4b73550>,\n",
        " 'JVLA': <pint.observatories.observatory at 0x4b73d10>,\n",
        " 'LWA1': <pint.observatories.observatory at 0x60d2b10>,\n",
        " 'MWA': <pint.observatories.observatory at 0x60d28d0>,\n",
        " 'Nancay': <pint.observatories.observatory at 0x60d2210>,\n",
        " 'Parkes': <pint.observatories.observatory at 0x4b73f90>,\n",
        " 'WSRT': <pint.observatories.observatory at 0x60d2690>}"
       ]
      }
     ],
     "prompt_number": 9
    },
    {
     "cell_type": "code",
     "collapsed": false,
     "input": [
      "T = TOA((56000,0), obs='Arecibo', freq=1400, error=1)"
     ],
     "language": "python",
     "metadata": {},
     "outputs": [],
     "prompt_number": 12
    },
    {
     "cell_type": "code",
     "collapsed": false,
     "input": [],
     "language": "python",
     "metadata": {},
     "outputs": []
    }
   ],
   "metadata": {}
  }
 ]
}